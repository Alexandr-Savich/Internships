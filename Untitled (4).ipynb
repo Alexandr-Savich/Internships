{
 "cells": [
  {
   "cell_type": "code",
   "execution_count": 1,
   "id": "37a2ed69",
   "metadata": {},
   "outputs": [],
   "source": [
    "from sklearn.datasets import fetch_20newsgroups"
   ]
  },
  {
   "cell_type": "code",
   "execution_count": 2,
   "id": "44085e85",
   "metadata": {},
   "outputs": [],
   "source": [
    "data_test = fetch_20newsgroups(\n",
    "    subset=\"test\", categories=None, shuffle=True, random_state=42, remove=()\n",
    ")"
   ]
  },
  {
   "cell_type": "code",
   "execution_count": 3,
   "id": "05514014",
   "metadata": {},
   "outputs": [
    {
     "data": {
      "text/plain": [
       "'From: v064mb9k@ubvmsd.cc.buffalo.edu (NEIL B. GANDLER)\\nSubject: Need info on 88-89 Bonneville\\nOrganization: University at Buffalo\\nLines: 10\\nNews-Software: VAX/VMS VNEWS 1.41\\nNntp-Posting-Host: ubvmsd.cc.buffalo.edu\\n\\n\\n I am a little confused on all of the models of the 88-89 bonnevilles.\\nI have heard of the LE SE LSE SSE SSEI. Could someone tell me the\\ndifferences are far as features or performance. I am also curious to\\nknow what the book value is for prefereably the 89 model. And how much\\nless than book value can you usually get them for. In other words how\\nmuch are they in demand this time of year. I have heard that the mid-spring\\nearly summer is the best time to buy.\\n\\n\\t\\t\\tNeil Gandler\\n'"
      ]
     },
     "execution_count": 3,
     "metadata": {},
     "output_type": "execute_result"
    }
   ],
   "source": [
    "data_test['data'][0]"
   ]
  },
  {
   "cell_type": "code",
   "execution_count": 4,
   "id": "1b88b94c",
   "metadata": {},
   "outputs": [
    {
     "data": {
      "application/vnd.jupyter.widget-view+json": {
       "model_id": "b3f4c59001be465a9f553ea4e206354d",
       "version_major": 2,
       "version_minor": 0
      },
      "text/plain": [
       "Downloading:   0%|          | 0.00/67.0 [00:00<?, ?B/s]"
      ]
     },
     "metadata": {},
     "output_type": "display_data"
    },
    {
     "data": {
      "application/vnd.jupyter.widget-view+json": {
       "model_id": "eeff933574764cb0bd76506bc4e3d81c",
       "version_major": 2,
       "version_minor": 0
      },
      "text/plain": [
       "Downloading:   0%|          | 0.00/827 [00:00<?, ?B/s]"
      ]
     },
     "metadata": {},
     "output_type": "display_data"
    },
    {
     "data": {
      "application/vnd.jupyter.widget-view+json": {
       "model_id": "9826384a9f0940e988eb8ac10b6f347d",
       "version_major": 2,
       "version_minor": 0
      },
      "text/plain": [
       "Downloading:   0%|          | 0.00/624k [00:00<?, ?B/s]"
      ]
     },
     "metadata": {},
     "output_type": "display_data"
    },
    {
     "data": {
      "application/vnd.jupyter.widget-view+json": {
       "model_id": "38178b89157d48f592d3a8e113e20389",
       "version_major": 2,
       "version_minor": 0
      },
      "text/plain": [
       "Downloading:   0%|          | 0.00/758k [00:00<?, ?B/s]"
      ]
     },
     "metadata": {},
     "output_type": "display_data"
    },
    {
     "data": {
      "application/vnd.jupyter.widget-view+json": {
       "model_id": "8fd1dd57ac3c4183b122a996751daa29",
       "version_major": 2,
       "version_minor": 0
      },
      "text/plain": [
       "Downloading:   0%|          | 0.00/308k [00:00<?, ?B/s]"
      ]
     },
     "metadata": {},
     "output_type": "display_data"
    },
    {
     "data": {
      "application/vnd.jupyter.widget-view+json": {
       "model_id": "f613a041e27b462592994e130fd9ef9b",
       "version_major": 2,
       "version_minor": 0
      },
      "text/plain": [
       "Downloading:   0%|          | 0.00/1.08G [00:00<?, ?B/s]"
      ]
     },
     "metadata": {},
     "output_type": "display_data"
    }
   ],
   "source": [
    "from transformers import AutoTokenizer, AutoModelForSeq2SeqLM\n",
    "\n",
    "tokenizer = AutoTokenizer.from_pretrained(\"facebook/wmt19-en-ru\")\n",
    "\n",
    "model = AutoModelForSeq2SeqLM.from_pretrained(\"facebook/wmt19-en-ru\")"
   ]
  },
  {
   "cell_type": "code",
   "execution_count": 24,
   "id": "abb8566c",
   "metadata": {},
   "outputs": [],
   "source": []
  },
  {
   "cell_type": "code",
   "execution_count": 28,
   "id": "abad56e4",
   "metadata": {},
   "outputs": [
    {
     "name": "stdout",
     "output_type": "stream",
     "text": [
      "</s>От: v4009k @ ubvccc.buffalo.edu (NEIL B. GANDLER) Тема: Нужна информация о 88-89 БоннэвиллеОрганизация: Университет в БуффалоЛинесе: 10Новости-2: VAX / VMS VNEWS 1.41N<unk>p-Posting-H<unk>: ubvcccc.buffalo.edu Я немного смущен по поводу всех моделей 88-89 Боннэвилле.Я слышал о LE SE SSEI. Не мог бы кто-нибудь сказать мне, что различия заключаются в характеристиках или производительности. Мне также любопытно узнать, какова балансовая стоимость предпочтительно 89 модели. И сколько их обычно можно получить. Другими словами, они востребованы в это время года. Я слышал, что середина лета - лучшее время для </s> \n",
      "\n",
      "</s>От: Рик Миллер; rick @ ee.uwm.edu > Тема: X-Face? Организация: Just me.Lines: 176000: NNTP-Posting-HB: 129.89.2.33Summary: Go ahead... swamp me. Hbbbbbbbbbbb; EP! > Я вообще не знаком с форматом этих \"X-Face:\" thingies, but увидев их в некоторых фольклорных хидерах, я * got * to * see * them (and may make one of my own)! I've got \"dpg-view\" on my Linux box (which displays \"uncompensed X-Faces\") and I' ve managed to compile [un] compace too... but now </s> \n",
      "\n"
     ]
    },
    {
     "name": "stderr",
     "output_type": "stream",
     "text": [
      "Token indices sequence length is longer than the specified maximum sequence length for this model (1328 > 1024). Running this sequence through the model will result in indexing errors\n"
     ]
    },
    {
     "name": "stdout",
     "output_type": "stream",
     "text": [
      "</s>UK.X-Newsreader: rusnews v<unk>2Lines: 9acooper @ mac.ccc.macalstr.edu (\"Турамбар\", Департамент МЭ по борьбе с бедностью) пишет: \"Неужели это понятие когда-либо модифицировалось, чтобы сильные атеисты определялись не как те, кто утверждает о несуществовании Бога, а как те, кто утверждает, что они ВЕРЯЮТ в несуществовании Бога? Одним словом, yes.mathew </s> \n",
      "\n",
      "</s>От: bakken @ cs.arizona.edu (Dave Bakken) Тема: Re: Saudi club y constitution of human rights group! Keywords: international, non-usa government, civil rights, social issues, politicsOrganization: U of Arizona CS Dept, TucsonLines: 101In article: 737307554 @ alcor. concordia.ca (ILYESS B. BDIRA) пишет: > Ben Baz's mind, civil rights, social issues, politicsОрганизация: U of Arizona CS Dept, TucsonLines: 101In article: </s> \n",
      "\n",
      "</s>От: livesey @ solnbeste.wpbesgi.com (Джон Хемсворт) Тема: Re: После 2000 лет, можем ли мы сказать, что христианская мораль - это Организация: sgiLines: sgiLines: 22besten: NNTP-Posting-H<unk>: solnbeste.wpbesgi.comВ статье Hebbesten; 1993Apr21.141259.12012 @ st-andrews.ac.uk (Норман Р. Патерсон) пишет: \"В статье Hebbesten; 1r2m21 $8mo @ fido.asfbesgi.com > livesey @ solnbeste.wpbesgi.com (Джон Хемсворт) пишет:\" В статье Hebbeste</s> \n",
      "\n",
      "</s>Я не знаю, что это такое, но я знаю, что это такое, и что это такое, и что это такое, и что это такое, и что это такое, и что это такое, и что это такое, и что это такое, и что это такое, и что это такое, и что это такое, и что это такое, и что это такое, и что это такое, и что это такое, и что это такое, и что это такое, и что это такое, и что это такое, и что это такое, и что это такое, и что это такое, и что это такое, и что это такое, и что это такое, и что это такое, и что это такое, и что это такое, и что это такое, и что это такое, и что это такое, и что это такое, и что это такое, и что это такое, и что это такое, и что это такое, и что это такое, и что </s> \n",
      "\n",
      "</s>От: PETCH @ gvg47.gvg.tek.com (Chuck) Тема: Daily VerseLines: 3Нечестные деньги исчезают, но тот, кто собирает деньги, понемногу растет. </s> \n",
      "\n",
      "</s>From: fortmann @ superbowl.und.ac.za (Paul Hemann - PG) Тема: \"The Word Perfect\" EXE file neededOrganization: University of Natal (Durban) Lines: 14Моему другу удалось получить копию компилированного греческого и французского Lexicon под названием \"The Word Perfect\" (Это не пакет обработки слов WordPerfect). Однако кто-то уничтожил файл EXE, и она не смогла его восстановить. </s> \n",
      "\n",
      "</s>От: karenkarenkarenkarenkarenkarenkarenkarenkarenkarenkarenkarenkarenkarenkarenkarenkarenkarenkarenkarenkarenkarenkarenkarenkarenkarenkarenkarenkarenkarenkarenkarenkarenkarenkarenkarenkarenkarenkarenkarenkarenkarenkarenkarenkarenkarenkarenkarenkarenkarenkarenkarenkarenkarenkarenkarenkarenkarenkarenkarenkarenkarenkarenkarenkarenk</s> \n",
      "\n",
      "</s>От: tmc @ spartan.ac.BrockU.CA (Tim Ciceran) Тема: Re: Превращение фотографических изображений в термопечать и / или негатив Организация: Университет Брока, Сент-Катаринз Онтарио-Ньюсридер: TIN [версия 1.1 PL9] Линии: 22Дженнифер Линн Урсо (ju23 + @ andre<unk>cmu.edu) написала:::: ну, у меня есть большой опыт работы с изображениями и изменения: их. Что касается замены их обратно на негативы, действительно ли это возможно?: (материал удален): Дженнифер Урсо: о-о-о-о-о-о-о-о-о-о-о-о-о-о-о-о-о-о-о-о-о </s> \n",
      "\n",
      "</s>От: Greg.Hacker @ FtCollection.NCR.COMТема: Windows On-Line Review uploaded-To: Greg.Hacker @ FtCollectionCO.NCR.COMТема: Windows On-Line Review uploaded-To: Greg.Hacker @ FtCollectionCO.NCR.COMТема: Windows On-Line Review uploaded-To: Greg.Hacker @ FtCollectionCO.NCR.COMТема: Windows On-Line Review uploaded-To: Greg.Hacker @ FtCollectionCO.NCR.COMТема: Windows On-Line Review uploaded-To: Greg.Hacker @ </s> \n",
      "\n",
      "</s>Откуда: sienh @ cs.utexas.edu (Joseph Hosh) Тема: X Выбор дизайна для обработки цветов: вопросОрганизация: CS Dept, Университет Техаса в ОстинЛайнз: 16NNTP-Posting-HD: cascais.cs.utexas.duKeywords: colorБольшинство графических систем, которые я видел, имеют процедуры рисования, которые также определяют цвет для рисования, например Drawpoint (x, y, color) или Drawline (x1, y1, x2, y2, color) или Fillrectangle (x1, y1, x2, y2, color) С X, я должен делать что-то вроде XSetForeground (current _ col</s> \n",
      "\n",
      "</s>От: tclock @ orion.oac.uci.edu (Tim Clock) Тема: Re: Peace Talk N<unk>p-Posting-H<unk>: orion.oac.uci.duOrganization: University of California, IrvineLines: 38В статье H<unk>; 1993May13.201441.23139 @ nysernet.org (Alan Stein) пишет: > Похоже, что для продолжения мирных переговоров Израиль должен продолжать делать жест доброй воли после жеста доброй воли, в то время как палестинцы > Арабы продолжают охоту на евреев. </s> \n",
      "\n",
      "</s>От: ray @ unisql.UUCP (Ray Shea) Тема: Re: Ok, So I was a little happy... Организация: UniSQL, Inc., Austin, Texas, USALines: 22В статье Freedy; speedy.173 @ engr.latech.edu > speedy @ engr.latech.edu (Speedy Mercer) пишет: > В статье Freedy; 5295 @ unisql.UUCP > ray @ unisql.UUCP (Ray Shea) пишет: > * Все * в Луизиане связано с ликвиром: есть, спать, ходить, > > говорить, церковь, государство, жизнь, смерть и все между ними. > > </s> \n",
      "\n",
      "</s>= = = _ _ _ _ _ _ _ _ _ _ _ _ _ _ _ _ _ _ _ _ _ _ _ _ _ _ _ _ _ _ _ _ _ _ _ _ _ _ _ _ _ _ _ _ _ _ _ _ _ _ _ _ _ _ _ _ _ _ _ _ _ _ _ _ _ _ _ _ _ _ _ _ _ _ _ _ _ _ _ _ _ _ _ _ _ _ _ _ _ _ _ _ _ _ _ _ _ _ _ _ _ _ _ _ _ _ _ _ _ _ _ _ _ _ _ _ _ _ _ _ _ _ _ _ _ _ _ _ _ _ _ _ _ _ _ _ _ _ _ _ _ _ _ _ _ _ _ _ _ _ _ _ _ _ _ _ _ _ _ _ _ _ _ _ _ _ _ _ _ _ _ _ _ _ _ _ _ _ _ _ _ _ _ _ _ _ _ _ _ _ _ _ _ _ _ </s> \n",
      "\n",
      "</s>От: charlea @ eng.clemson.edu (charles) Тема: Re: Ошибка на видеокарте EISA performanceOrganization: Clemson HebtyLines: 44Из статьи \"Ошибка\"; C68uBG.K2w @ benz.std.com >, по адресу \"w @ benz.std.com\" (Christopher F Wenze): > У меня есть машина EISA, и я просто не понимаю, почему большинство > видеокарты EISA только соответствуют производительности их ISA > счетчики. Например, EISA Orchid Pro, Is-E - это > только о \"быстром\", как карта ISA Diamond SpeedStar Plus, которая не > то, что я </s> \n",
      "\n",
      "</s>_ _ _ _ _ _ _ _ _ _ _ _ _ _ _ _ _ _ _ _ _ _ _ _ _ _ _ _ _ _ _ _ _ _ _ _ _ _ _ _ _ _ _ _ _ _ _ _ _ _ _ _ _ _ _ _ _ _ _ _ _ _ _ _ _ _ _ _ _ _ _ _ _ _ _ _ _ _ _ _ _ _ _ _ _ _ _ _ _ _ _ _ _ _ _ _ _ _ _ _ _ _ _ _ _ _ _ _ _ _ _ _ _ _ _ _ _ _ _ _ _ _ _ _ _ _ _ _ _ _ _ _ _ _ _ _ _ _ _ _ _ _ _ _ _ _ _ _ _ _ _ _ _ _ _ _ _ _ _ _ _ _ _ _ _ _ _ _ _ _ _ _ _ _ _ _ _ _ _ _ _ _ _ _ _ _ _ _ _ _ _ _ _ _ _ _ _ _ </s> \n",
      "\n",
      "</s>От: vicente @ cenaath.cena.dgac.lt (Martin VICENTE (CENA / SID)) Тема: Re: 3D input devicesOriginator: vicente @ milouKeywords: 3d, input, deviceOrganization: C.E.N. (Centre d 'Etudes de la fairation Aerienne) Lines: 11Hello, i' m interested in those devices too.Could also send me your fairs. Thank in advance.Regards. -- Martin VICENTE (E-mail: vicente @ cenaath.cena.dgac.lt - Th: 69 84 56 88 </s> \n",
      "\n",
      "</s>From: Mike Diack Hebble; mike-d @ staff.tc.umbedu > Subject: Re: Freic Components etcX-Xxmessage-Id: Fredbank; A7FDDDD0F6016515 @ dialup-slip-1-21.gumbedu > X-Xxdate: Fri, 23 Apr 93 02: 32: 48 GMTNp-Posting-HB: dialup-slip-1-21.gumnbedu-duOrganization: persian cat & cover co.X-Useragent: Nuntius v1.1.1d7Lines: 19I said > Cipher slip des $10,00 what a SILLY </s> \n",
      "\n",
      "</s>От: b5404 @ tamuts.tamutsedu (Дэрил Биберу) Тема: TEXAS HB 1776 - VFING IS TODAYОрганизация: Texas A & M University, College StationLines: 820: usaNNTP-Posting-HB: tamuts.tamuts.tamutseduI только что позвонила в техасскую службу отслеживания законопроектов и выяснила, что HB 1776 (Concealed Carry) запланирован к голосованию СЕГОДНЯ! Пусть звонят! </s> \n",
      "\n",
      "</s>С: Mat.Gams @ IJS.siSubject: \"Call for Papers for INFORMATIC\" Vol. 17 No.2Originator: abrodnik @ watdragon.uwaterloo.caOrganization: Jozef, Institute, L<unk>Edition, SloveniaLines: 69This is an investigation to send articles to the fresh atica. Первый полностью международный выпуск был опубликован, и эхо вполне возможно. </s> \n",
      "\n",
      "</s>От: jth @ handel.edu (Jay Thomas Hayes) Тема: Lotus 1-2-3 ver 3.4 forsaleN<unk>p-Posting-H<unk>: Hondel.udel.duOrganization: University of Delphi: usaLines: 10 * * * * * * * * * * * * * * * * * * * * * * * * * * * * * * * * * * * У меня есть дополнительная копия Lotus 1-2-3 ver 3.4 для DOS. Этот пакет изначально стоил $600. Я хотел бы получить $75 за него. Пожалуйста, ответьте по электронной почте tojth @ handel.udel.duThanks, Jay </s> \n",
      "\n",
      "</s>От: josip @ eng.umedu (Josip Loncaric) Тема: Re: Europe vs. Muslim BosniansOrganization: Project GLUE, University of Maryland, College ParkLines: 79NTP-Posting-H<unk>: orbit.src.umd<unk>duIn article <unk>; 13<unk>Y93<unk>@ edison.usask.ca > f54oguocha @ edison.ca пишет: > Пожалуйста, не стоит задаваться этим вопросом: кто является \"мусульманами\" в данном случае, так как \"мусульмане\" в данном случае не являются религиозными? </s> \n",
      "\n",
      "</s>От: prb @ access.digex.net (Pat) Тема: Re: HST Mission Scheduled for 11 DaysOrganization: Express Access Online Communications USALines: 14NNTP-Posting-HL: access.digex.netВ статье, опубликованной в журнале C6A2At.E9z @ zoo.toronto.edu (Генри Спенсер) пишет: > > Нет, вещь предназначена для повторного использования, в один миг. </s> \n",
      "\n",
      "</s>_ _ _ _ _ _ _ _ _ _ _ _ _ _ _ _ _ _ _ _ _ _ _ _ _ _ _ _ _ _ _ _ _ _ _ _ _ _ _ _ _ _ _ _ _ _ _ _ _ _ _ _ _ _ _ _ _ _ _ _ _ _ _ _ _ _ _ _ _ _ _ _ _ _ _ _ _ _ _ _ _ _ _ _ _ _ _ _ _ _ _ _ _ _ _ _ _ _ _ _ _ _ _ _ _ _ _ _ _ _ _ _ _ _ _ _ _ _ _ _ _ _ _ _ _ _ _ _ _ _ _ _ _ _ _ _ _ _ _ _ _ _ _ _ _ _ _ _ _ _ _ _ _ _ _ _ _ _ _ _ _ _ _ _ _ _ _ _ _ _ _ _ _ _ _ _ _ _ _ _ _ _ _ _ _ _ _ _ _ _ _ _ _ _ _ _ _ _ </s> \n",
      "\n",
      "</s>От: george @ crayola.East.Sun.COM (George A. Pbins Sun Hystems Tampa FL Systems Engineering) Тема: Вопросы по литию, доктор хочет, чтобы мне было 10 лет... Организация: Sun Hystems, Inc.Lines: 3320: \"Reply-To: george @ crayola.East.Sun.COMNTP-Posting-H<unk>: crayola.east.sun.comКлючевые слова: литий, infoHi sci.med folks... Я хотел бы знать все, что вы, люди, можете сказать мне о литии / Inc.Lines: 3320:\" Reply-To: george @ crayola.East.Sun.COMNTP-</s> \n",
      "\n",
      "</s>От: pmetzger @ snark.shearson.com (Perry E. Hearson.com) Тема: CELP vocodersArticle-I.D.: Partnership for an America Free DrugLines: 28gtoal @ gtoal.com (Graham Toal) пишет: > Абсолютно. Я просто имел в виду, что ни одно защищенное * криптоустройство никогда не было одобрено. </s> \n",
      "\n",
      "</s>От: cadiz @ rtsg.mot.com (Jay Cadiz) Тема: GTS Headlight CoverN<unk>p-Posting-H<unk>: are5Organization: Motorola Inc., Cellular Crupture Grupp: usaLines: 15У меня есть 90 Eagle Talon, и я хотел пару крышек GTS Headlight. На самом деле, они поворачивают сигнальные крышки, так как у Talons в том году появились всплывающие фонари. Я пошел в автомагазин и купил крышки хвостовых фонарей за $45, но у них не было крышек поворотных сигналов на складе. Я спросил, сколько это будет стоить, и он сказал мне, что это будет стоить мне еще $40. Я сказал, что это немного выше за две </s> \n",
      "\n",
      "</s>От: rmakarem @ usc.edu (Total) Тема: HELP с 89 Mitsui Galant GS Transmission Организация: University of Southern California, Los Angeles, CALines: 43HB: NNTP-Posting-HB: phabes.usc<unk>duHi, мне нужна ваша помощь с проблемой у меня есть 1989 Mitsui Galant GS transmission. Автомобиль имеет 5-скоростную механическую трансмиссию. Так как машина была куплена новая, в то время как смещение со 2-го на 3-е, если я не сделаю это SLOWLY и осторожно, она делает \"popping\" или \"наезд\" sound.The debesbesbesbesbesb</s> \n",
      "\n",
      "</s>От: Henbesson @ dseg.ti.com (John Anderson) Тема: re: Gateway 2000 & Zeos compareOrganization: TI-DSEG Spring CreekNhenbesp-Posting-Hendrich: menbespar-jha.dseg.ti.comReply-To: Henbespar 2000 66V systen and the Zeos's system. Which is better (in terms of > value, price, benzobrade, service), because I am in canada, I wonder I have > the same level of service as in the states? John H LAM пишет: > > I am think of buy a new computer th</s> \n",
      "\n",
      "</s>От: dhliu @ solar.cb.ntu.du.tw (E-Hua Liu) Тема: код ключа неверный для XKeyReleased.ntu.tw Тема: Dept of the Science and Information Engineering of NX-Newsreader: TIN [version 1.1 PL9] Lines: 15Я пишу досэму на основе X, который требует XKeyReleased.Я обнаружил, что код ключа XKeyReleased.ntu.tw неверный. Если я запускаю программу на Linux-хосте (XFree1.2) с DISPLAY, установленным на местный Linux и на солнечный хост (X11R5), то два ключа с двух Xсерверов отличаются. Конечно </s> \n",
      "\n",
      "</s>От: hps @ KEKOA.JACH.HAWAII.EDU (Henry Stilman - JAC System Mgr.) Тема: Выбор оконного управляющего Reply-To: hps @ KEKOA.JACH.HAWAII.EDU Организация: Объединенный центр по омоложению Великобритании / Канады / Нидерландов, Hilo, HawaiiLines: 13A, в то время как назад (несколько месяцев назад) кто-то опубликовал метод, позволяющий пользователю выбрать (через XMenu и что-то еще?) оконный менеджер интерактивно в X-Up. Может ли оригинальный плакат (или кто-либо другой) отправить мне копию метода, так как я потеряла первоначальное размещение? Спасибо. _ _ _ _ _ _ _ _ _ _ _ _ _ _ _ </s> \n",
      "\n",
      "</s>От: s9131783 @ valiant.vut.EDU.AU (Robert B Harvey) Тема: Отключение выбрасывания на Mac SEOrganization: Victoria University of Technology, Melbourne, AustraliaLines: 13Я пытаюсь найти программу, которая остановит выплескивание маков на диск. </s> \n",
      "\n",
      "</s>От: mcook @ cs.ulovell.edu (Michael Cook) Тема: Ошибка CMOS Checksum Организация: BIOS-Lowell ScienceLines: 10Recently, I have been getting a CMOS Checksum error when I first turn on mycomputer. It is not happen every time I turn it on, and I can predict when it's going to happen. I have an AMI BIOS and all the setting are lost, for example the drive types and the password options. However, the date and timeremain correct. If anyone знает, что может быть причиной этого, please let me knowledge th</s> \n",
      "\n",
      "</s>В то же время, по сравнению с предыдущими годами, в течение последних пяти лет, количество людей, страдающих диабетом второго типа, уменьшилось в два раза, в то время как количество людей, страдающих диабетом второго типа, увеличилось в два раза, в то время как количество людей, страдающих диабетом второго типа, увеличилось в два раза, в то время как количество людей, страдающих диабетом второго типа, увеличилось в два раза. </s> \n",
      "\n",
      "</s>От: s8719667 @ cse.unsbedu.au (D W Austin) Тема: Re: Anti-aliasing & Raytracing on: N<unk>p-Posting-H<unk>on: rouge.spectrum.cs.unsbedureply-To: s8719667 @ cse.unsbedu.au (D W Austin) Тема: Re: Anti-aliasing & Raytracing on: N<unk>p-Posting-H<unk>on: rouge.spectrum.cs.unsbedureply-To: s8719667 @ cse.unsbedu.au (D W Austin) Тема: Re: Anti-aliasing & Raytracing </s> \n",
      "\n",
      "</s>От: cmk @ athena.mit.edu (Чарльз М Койок) Тема: Re: Bosox снова побеждают! (5-2 против Сиэтла) Организация: Массачусетский технологический институт Lines: 27NNTP-Posting-HB: electric-monk.mit.duIn article: jx735398917 @ black.clar.edu > jxu @ black.clar.edu (Dark Wing Duck!!) пишет: _ _ _ _ _ _ _ _ _ _ _ _ _ _ _ _ _ _ _ _ _ _ _ _ _ _ _ _ _ _ _ _ _ _ _ _ _ _ _ _ _ _ _ _ _ _ _ _ _ _ _ _ _ _ _ _ _ _ _ _ _ _ _ _ _ _ _ _ _ _ _ _ _ _ </s> \n",
      "\n",
      "</s>От: youyj @ mace.cc.purdue.edu (young-jong you) Тема: 24bit on LCII? Ключевые слова: адаптер стороннего разработчика: Purdue: usaLines: 7Есть ли адаптер стороннего разработчика для 24-битного отображения цвета на LCII? Слышал, что Apple продает его за 160 $.Пожалуйста, напишите мне по электронной почте me.youyj @ mace.cc.purdue.edu </s> \n",
      "\n",
      "</s>От: pw4963 @ thor.any.edu (Peter White) Тема: Mac LCII 4 / 80 для продажиОрганизация: Государственный университет Нью-Йорка в Албанье: nyLines: 10У меня есть mac LCII 4 / 80, купленный в августе прошлого года. Просто cpu и мышь... без монитора или клавиатуры. $800 OBO-- Peter Whitepw4963 @ csc.anny.dupwhite @ mac.archive.umich.edu </s> \n",
      "\n",
      "</s>От: jchinnic @ mach1.wlu.ca (jchinnick 8335 a) Тема: Wanted: 3d rendering lib for Mach1.wlu.caphone: TIN [version 1.1 PL6] Организация: Wilfrid Laurier HotyLines: 19Знает ли кто-нибудь о приличном качестве библиотеки программ для выполнения 3D-графического моделирования на ПК? В идеале эти программы должны быть встроены в нашу прикладную программу.Требования (список пожеланий): - моделирование плоской поверхности (простое затенение) - возможность прорисовывать скрытые линии рисунка - составление текстур - как продольных, так и битовых карт - моделирование источников света (локальных, отдаленных и точечных) - лучевое моделирование - Радиоактивность (оп</s> \n",
      "\n",
      "</s>С: dbd @ urartu.sdpa.org (David Davidian) Тема: Re: A British on ArmeniansOrganization: S.D.P<unk>Center for Regional Studios Lines: 55В статье ОЗ; C7185<unk>9xJ @ unix.amherst.edu > e<unk>inel @ unix.amherst.edu (ERDEMERGINEL) спросил: [EE] Нет, нет. Просто простой вопрос.... с простым ответом! [EE] Насколько я знаю, большинство армян принадлежат к грегорианской ортодоксальной ортодоксальной [EE] вере, и такой был случай в девятидесятом веке Османской империи. Известно также, что некоторые армянские общины были </s> \n",
      "\n",
      "</s>От: campbers @ craf.clarkson.edu (Боб Кэмпбелл) Тема: Re: Challenge to Microsoft. News-X: IBM OS / 2 PM RN (NR / 2) v0.17 by O. Vishnepolsky and R. RogersLines: 7Reply-To: Hwan @ vax.c.muskingumenduDiscoverer: This posting represents the posts of the posts, not обязательно think of the IB.NP-Posting-Human: campbers.bocaraton.ibm.comОрганизация: Clarkson, ---Hey is it not it funny how betas have bugs in them.... Hey... do me a favor and not put up tupid pos</s> \n",
      "\n",
      "</s>От: egreen @ east.sun.com (Ed Green - Pixel Cruncher) Тема: Re: A Point for Helmet Law is a Point for Organization: Sun, PP, NCLines: 20E: Reply-To: egreen @ east.sun.com (Ed Green - Pixel Cruncher) Тема: Re: A Point for Helmet Law is a Point for Organization: Sun, PP, NCLines: 20E: Reply-To: egreen @ east.sun.com (Ed Green - Pixel Cruncher) Тема: Re: A Point for Helmet Law is a Point for Org</s> \n",
      "\n",
      "</s>От: remcoha @ solist.aha.nl (Remco Hartog) Тема: RGB к HHL, и обратно Организация: Hohcool van Amsterdam, Нидерланды, E.E. & C.S. Depo Lines: 9У меня есть небольшой вопрос: мне нужно преобразовать цвета, закодированные RGB (красно-зеленый-синий), в цвета, закодированные HH (Hue-Value-Saturnation). Кто-нибудь знает, какие формулы подходят? Спасибо! R.R.W.Hartog remcoha @ solist.hosa.aha.nl </s> \n",
      "\n",
      "</s>От: holland @ CS.CS.State.EDU (douglas craig holland) Тема: Re: Винт людей, крипто предназначено только для хардкоров и шпионов. NHP-Posting-HD: beethoven.cs.state.eduОрганизация: Университет штата Колорадо, Департамент науки: 22В статье strnlghtC5wJAG.46L @ netcom.com (Дэвид Хемлайт) пишет: > > Дуг Холланд утверждает, что Том Кланси предоставил информацию для ядерных бомб. > Сам Кланси говорит, что он предпринял некоторые важные шаги. Кроме того, откуда мы знаем, что Кланси знает, а не повторяет то, что он читал или говорил в незасекреченном домене? > Том Кланси предложил эти ключевые шаги </s> \n",
      "\n",
      "</s>От: wier @ merlin.etsu.edu (Bob Wier) Тема: Adobe: Mailing ListOrganization: East Texas State: 16I've done a bit of looking, and haven' t been able to come up with a mailing list or newsgroup for usage of Adobe. Предполагая, что я просто не ошибаюсь, я пойду вперед и посмотрю, достаточно ли у меня времени, чтобы начать mailing list (and / или newsgroup).Drop me a note if you might be interested in subscribing.THANKS! --Bob Wier (NOT of the Grand Dead: -) = = = = = = = = = = = = = = = = = = = </s> \n",
      "\n",
      "</s>От: abd<unk>@ straftax.fc.nasa.gov (David Ward) Тема: Re: HST Hosting Mission Scheduled for 11 DaysNews-b1: VAX / VMS VNEWS 1.4-b1 Организация: Goddard Space Flight Center - Robotics LabLines: 38В статье HST; 1rs8<unk>INN8he @ gap.caltech.edu >, palmer @ cco.caltech.edu (David M. Palmer) пишет... > Вы, возможно, захотите вернуть Hubble обратно в отсек полезной нагрузки для reboost, > и вы не хотите отсекать панели каждого тиме.The \"artist renderings\" that I '</s> \n",
      "\n",
      "</s>_ _ _ _ _ _ _ _ _ _ _ _ _ _ _ _ _ _ _ _ _ _ _ _ _ _ _ _ _ _ _ _ _ _ _ _ _ _ _ _ _ _ _ _ _ _ _ _ _ _ _ _ _ _ _ _ _ _ _ _ _ _ _ _ _ _ _ _ _ _ _ _ _ _ _ _ _ _ _ _ _ _ _ _ _ _ _ _ _ _ _ _ _ _ _ _ _ _ _ _ _ _ _ _ _ _ _ _ _ _ _ _ _ _ _ _ _ _ _ _ _ _ _ _ _ _ _ _ _ _ _ _ _ _ _ _ _ _ _ _ _ _ _ _ _ _ _ _ _ _ _ _ _ _ _ _ _ _ _ _ _ _ _ _ _ _ _ _ _ _ _ _ _ _ _ _ _ _ _ _ _ _ _ _ _ _ _ _ _ _ _ _ _ _ _ _ _ _ </s> \n",
      "\n",
      "</s>От: ee92jks @ brunel.ac.uk (Jonathan K Saville) Тема: Re: triple desOrganization: Brunel University, Uxbridge, UKX-Newsreader: TIN [version 1.1 PL9] Lines: 18Richard Luccock (rmal @ jet.uk) wrote::: I have seen various references to 'triple des' recently. </s> \n",
      "\n",
      "</s>From: mccullou @ snake2.cs.wisc.edu (Mark McCenzo) Subject: Re: Amusing atheists and anarchistsOrganization: University of Wisconsin, Madison -- England Sciences Depenza Lines: 31In article hebbrick; timenzake.735294667 @ mcl > timenzake @ mcl.ucsb.edu (Bake Timmons) пишет: > mccullou @ whipple.cs.wisc.edu пишет: > > > The line about atheists having something up their хендлайнеры is what seemed > > to imply that. Sorry, been read</s> \n",
      "\n",
      "</s>От: carter @ ecf.toronto.edu (CARTER EDWARD A) Тема: Re: Good Reasons to Wave at each otherOrganization: University of Toronto, Engineering Computing FactyLines: 19jlevine @ r<unk>hydro.on.ca (Jody Levine) пишет: > Кто-нибудь, находясь за рулем клетки, когда-нибудь махнул рукой на байкеров? У меня возникает желание, но я никогда на самом деле этого не делал. О, да, все время. В хороший весенне-летний день я катаюсь по ветровому стеклу в поисках велосипедов. Когда мотоцикл двигается в оппозиционном направлении, я выдергиваю руку и поднимаю ее. Моя рука чувствует себя как миллион баксов, когда </s> \n",
      "\n",
      "</s>От: binger @ hsh.comSubject: Re: Wanted: Advice for New CylistOrganization: HSH AssociatesLines: 26In article: HSH AssociatesLines; 1993Apr20.150337.2963 @ ringhydro.on.ca >, jlevine @ ringhydro.on.ca (Jody Levine) пишет: > > Так что у меня вопрос \"HOW DANGEROUS IS RIDING\"? > > Это точно так же опасно, как это выглядит. </s> \n",
      "\n",
      "</s>От: brian @ ucsdu (Брайан Хемсворт) Тема: Re: HELP for Kidney Stones.......... Организация: The Avant-Garde of the Now, LtdLines: 12NNTP-Posting-Human: ucsdu Как я помню из моего приступа с кидневыми камнями, нет никакого лекарства, которое могло бы с ними что-либо сделать, кроме краски. Ещё они проходят, или их нужно разогнать звуком, или они должны быть экстраординарными. Когда я была в больнице, рентгенолог случайно упомянул, что у нее были киднестоны и дети, и роды были менее болезненными. Демерол сработал, хотя я едва не была арестована по дороге домой, когда я остановилась перед полицейской машиной, припаркованной рядом с ER</s> \n",
      "\n",
      "</s>Если бы кто-то из игроков, играющих в бейсбол, был бы счастлив, если бы кто-то из игроков, играющих в бейсбол, был бы счастлив, если бы кто-то из игроков, играющих в бейсбол, был бы счастлив, если бы кто-то из игроков, играющих в бейсбол, был счастлив, был бы счастлив, если бы кто-то из игроков, играющих в бейсбол, был бы счастлив, если бы кто-то из игроков, играющих в бейсбол, был счастлив, был бы счастлив, если бы все игроки, играющие в бейсбол, были счастливы, если бы они были счастливы, были счастливы, если бы они были счастливы, если бы они были счастливы, если бы они были счастливы, если бы они были счастливы, если бы они были счастливы, если бы они были счастливы, если </s> \n",
      "\n",
      "</s>От: \"kwansik kim\" Озил; kkim @ cs.indiana.edu > Тема: Где это? Организация: Университет Индианы, Наука, Блумингтон: usaLines: 4Где я могу его найти? Спасибо, Квансик </s> \n",
      "\n",
      "</s>От: richs @ micross.com (Rick Schaut) Тема: Re: Challenge to Microsoft. Организация: Microsoft CorporationReply-To: richs @ micross.com (Rick Schaut) Тема: Re: Challenge to Microsoft. Организация: Microsoft CorporationReply-To: richs @ micross.com (Rick Schaut) Тема: usaLines: 13В статье: richs @ micross.com; 14822 @ news.duke.edu > kdb @ sunbar.mc.duke.edu (Курт Боллакер) пишет: > Я согласен. Никто никогда окончательно не отвечал на мой вызов -- только бились вокруг > семантики. О, я полагаю, все получилось так, как ожидал. Я привел </s> \n",
      "\n",
      "</s>От: jgold @ chopin.udel.edu (Jonathan Goldstein) Тема: Re: The Amazin 'Isles!!!!! N<unk>p-Posting-H<unk>: chopin.udel.edu: University of DelfeneLines: 21WATCH OUT PITSBURE COME THE ISLES!!!!!!!!!!!!!!!!!!!!!!!!!!!!!!!!!!!!!!!!!!!!!!!!!!!!!!!!!!!!!!!!!!!!!!!!!!!!!!!!!!!!!!!!!!!!!!!!!!!! </s> \n",
      "\n",
      "</s>От: adam @ endor.uucp (Adam Shostack) Тема: Re: Expansion IIOrganization: Aiken Computation Lab, Harvard HottyLines: 51В статье Осборна; 1993Apr2723914.9453 @ Virginia.EDU > ab4z @ Virginia.EDU (\"Анди Бейер\") пишет: > > jake @ bony1.bony.com пишет: > > В статье Осборна; 1993Apr25.222120.3411 @ Virginia.EDU > ab4z @ Virginia.EDU (\"Анди Бейер\") пишет: > > waldo @ cybernet.cse.edu пишет: > > Все </s> \n",
      "\n",
      "</s>От: fbrown @ seaway.sskodak.com (Фрэнк Браун 726-15) Тема: Re: ATF BURVIDIAN RANCH! NO SURVIVORS!! Организация: Eastman KodakLines: 56В статье 1r75n1INN97g @ clem.com > jmd @ cube.handheld.com (Джим Де Аррас) пишет: > В статье 73548223 @ shale > dusek @ rtsg.mot.com (Джеймс П. Дусек) пишет: > ccdarg @ clem.handheld.com > jmd @ cube.handheld.com (Джим Де Аррас) пишет: > В статье 73548223 @ shale > dus</s> \n",
      "\n",
      "</s>From: 18084TM @ msu.edu (Tom) Subject: Freshier Object: SmileyX-B: Forwarded by Space DigestOrganization: [via International Space University] Оригинал-Отверстие: isu @ VACATION.VENARI.CMU.EDUE: sciLines: 25James Heboll sez; > > Если новый объект пояса Койпера * называется \"Карла\", то следующий > > должен называться \"Smiley\".Jeff responds; > Unless I'm imaging things, (always a possibility =) 1992 QB1, объект Kuiper BB >, открытый в прошлом году, </s> \n",
      "\n",
      "</s>От: car377 @ cbnewsj.att.com (charles.a.rogers) Тема: Re: do<unk>Organization: AT & TSummary: relative size of dog vs. Lines: 53In article <unk>; 93Apr20.1958.30419 @ acs.ucalgary.ca >, parr @ acs.ucalgary.ca (Charles Parr) пишет: > В статье <unk>; C5p<unk>M.8Co @ cbnewsj.att.com > car377 @ cbnewsj.att.com (charles.a.rogers) пишет: <unk>Я не знаю, как это было на самом деле, но я знаю, что это было на самом деле. </s> \n",
      "\n",
      "</s>От: golf @ phoenix.oulu.fi (Jouko Kylmaoja) Тема: Немецкая публика сумасшедшая?? Организация: Университет Оулу, FinlandX-Newsreader: TIN [version 1.1 PL9] Линии: 17Я смотрел игру Германия-Чехия сегодня... и я был поражен поведением немецкой публики! Немецкая команда получила несколько пенальти в последнем периоде, и толпа разозлилась! Они бросали монеты, лишние шайбы и другие трюки на каток... это глупо или что?? Я полагаю, что канадский судья (один из theIsostar-bros;) назначил немецкой команде пенальти за это, но это не помогло. Я думаю, что немцы просто гордятся своим нацистско-килл- 'em-All </s> \n",
      "\n",
      "</s>От: tclock @ orion.oac.uci.edu (Tim Clock) Тема: Re: Египет призывает к борьбе с фундаменталистами, возражает против пробоснийских шаговNp-Posting-HD: orion.oac.uci.udu (Tim Clock) Тема: Re: Египет призывает к борьбе с фундаменталистами, возражает против пробоснийских шаговNp-Posting-HD: orion.oac.uci.udu (Tim Clock) Тема: Re: Египет призывает к борьбе с фундаменталистами, возражает против пробоснийских шаговNp-Posting-HD: orion.oac.uci.udu (University of California, IrvineКлючевые слова: international, united </s> \n",
      "\n",
      "</s>От: d<unk>@ casbah.ac.n<unk>edu (Дуглас Хемсворт) Тема: Re: A Message for you Mr. President: How do you know what happened? Ключевые слова: SuccessN<unk>p-Posting-H<unk>: casbah.ac.n<unk>duOrganization: Northwestern University, Evanston ILLines: 5--Дуглас К. </s> \n",
      "\n",
      "</s>От: mayorga @ mr _ slate.cis.udel.edu (Anibal Mayorga) Тема: Изображение диска на сайте: University of Delaware, NewarkLines: 1700: usaNNTP-Posting-HV: mr _ slate.cis.udel.udel.edu (Anibal Mayorga) Тема: Изображение диска на сайте: University of Delaware, NewarkLines: 1700: usaNNTP-Posting-HV: mr _ slate.cis.udel.udel.edu (Anibal Mayorga) Тема: Изображение диска на сайте: University of Delaware, NewarkLines </s> \n",
      "\n",
      "</s>От: Clinton-HQ @ Campaign92.Org (The White House) Тема: CHTON: Dential Statement on WacoOrganization: MIT Artificial Intelligence LabLines: 29NNTP-Posting-HQ: life.ai.mith 'duThe White HouseOffice of the Press HouseOffice of the Waco' tary------------------------------------------------------------------------------------------------------------------------------------------------------------------------------------------------------------------------------------------------------------------------------------------------------------------------------------------------</s> \n",
      "\n",
      "</s>От: eczcaw @ mips.notbac.uk (A.Wainwright) Тема: Re: New Study Out On Gay PercentageReply-To: eczcaw @ mips.notbac.uk (A.Wainwright) Организация: Nottingham HebtyLines: 26В статье \"Ошибки\"; 15430 @ optilink.COM >, cramer @ optilink.COM (Claumer) пишет: \"Да, вы. Когда вы и остальная часть гомосексуального сообщества принимаете законы, чтобы навязать мне свои моральные кодексы, требуя от меня нанимать, арендовать или каким-либо иным образом ассоциировать себя с гомосексуалистом против моей воли, да, вы находитесь в моем лице. До тех пор, пока </s> \n",
      "\n",
      "</s>От: bpeters @ oasys.d<unk>navy.mil (Brenda Peters) Тема: Re: аллергические реакции на оазис.d<unk>navy.mil (Brenda Peters) Организация: Carderock Division, NSB, Bethesda, MDLines: 34In sci.med, rdd @ uts.ipp-garching.mpgB (\"Друб\") пишет: > Hello, > > кто-нибудь знает об аллергических реакциях, вызванных разработчиком / тонером? О каком химическом веществе идет речь? > > Спасибо заранее! > > email: rdd @ ibma.ipp-garching.mpg.deDo I ever!!!!! После 2 лет проблем со здоровьем, </s> \n",
      "\n",
      "</s>От: livesey @ soln.wp.sgi.com (Джон Хемсворт) Тема: Re: FAKE GOD, HOLY LIESONGILines: sgiLines: 102E: NNTP-Posting-H<unk>: soln.wp.sgi.comВ статье, опубликованной в 1993 году, dmcaloon @ tuba.calpoly.edu (Дэвид Маккартни) пишет: > > REMEMO: Остин сказал, что Воображение важнее знаний!!! Тогда Остин должен был пообедать со мной на улице Тянь-Фуон Кастро вчера, когда они вручили мне фортуну, в которой говорилось: \"У того, у кого есть воображение, но нет крыльев, но нет ног\". </s> \n",
      "\n",
      "</s>От: pablo @ basunix.hbb.jhu.edu (Pablo A beslesias) Тема: Re: How to speed up games (marginally realistic) Организация: Университет Джонса Хопкинса, Балтимор, Мэриленд, США: 22NNNTP-Posting-Hbbs: Pablo unix.hbb.jhuhedduIn article: 93042040.27738 @ L.MIT.EDU > ejb @ ll.mit.edu (Ed Baranoski) пишет: > В статье Hebbo; 1993Apr20.182.5.11319 @ V.Paramax.COM > davidm @ gv.2.vfl.par</s> \n",
      "\n",
      "</s>From: ranck @ joesbar.cc.vtencduX-Newsreader: TIN [version 1.1 PL9] Mark Bergman (hensman @ panix.com) wrote:: To those of you who have the BMW heated handgrips:: What are they like during the summer? Yes, you: wiseguy, I mean while they are off!: Are they transmit a lot of: vibration? How do they compare to the stock grips?: To foam grips?: Do they really make a difference during the winter? I just got a K75 and had the heated grips installed. As far </s> \n",
      "\n",
      "</s>From: bu534 @ cleveland.Freenet.Edu (Bill E Jones) Subject: Re: race and violenceOrganization: Case Western Reserve University, Cleveland, Ohio (USA) Lines: 2NNTP-Posting-HD: hela.Freedom. </s> \n",
      "\n",
      "</s>От: sjg3 @ besk.lehigh.edu (STEVEN JAY GIBBLE) Тема: TV Coverage - NHL to blame! Организация: Lehbrick BesktyLines: 48 The tv coverage of the Besko is fucking Besko. Overtime games that are not shown? What the hell kind of shit is this? If that would happen to the Flyers (if they were in the damn Besko to begin with) while I was watching, I would go both the roof Pitt! Однако, все получают обиду на Besko N, но они не те, кто виноват. У них есть предыдущие контракты, которые они просто не могут просто разорвать, когда </s> \n",
      "\n",
      "</s>От: cotera @ wooble.ulovell.duSubject: Re: Biblical Backing of Koresh's 3-02 Tape (Cities enclosed) Lines: 25Organization: University of Massachusetts Lowell.edu > cotera @ wooble.ulovell.edu > cotera @ wooble.ulovell.edu > cotera @ wooble.ulovell.edu > cotera @ wooble.ulovell.edu > cotera @ wooble.ulovell.edu > cotera @ wooble.ulovell.edu > cotera @ wooble.ulovell.edu > cotera @ woob</s> \n",
      "\n",
      "</s>От: ncsu.ncsu.edu (Josip NMI Simunovic) Тема: IBM 5272 Color<unk>для 3270PC? Статья-I.D.: ncsu.1993Apr22.212557.27590Организация: NCSULines: 10X-Newsreader: TIN [version 1.1 PL8] У меня есть один из этих мониторов. Вроде нормально работает, но не подключается ни к какому стандарту (CGA, EGA, VGA) - подключается, но издает пушистый шум. </s> \n",
      "\n",
      "</s>_ _ _ _ _ _ _ _ _ _ _ _ _ _ _ _ _ _ _ _ _ _ _ _ _ _ _ _ _ _ _ _ _ _ _ _ _ _ _ _ _ _ _ _ _ _ _ _ _ _ _ _ _ _ _ _ _ _ _ _ _ _ _ _ _ _ _ _ _ _ _ _ _ _ _ _ _ _ _ _ _ _ _ _ _ _ _ _ _ _ _ _ _ _ _ _ _ _ _ _ _ _ _ _ _ _ _ _ _ _ _ _ _ _ _ _ _ _ _ _ _ _ _ _ _ _ _ _ _ _ _ _ _ _ _ _ _ _ _ _ _ _ _ _ _ _ _ _ _ _ _ _ _ _ _ _ _ _ _ _ _ _ _ _ _ _ _ _ _ _ _ _ _ _ _ _ _ _ _ _ _ _ _ _ _ _ _ _ _ _ _ _ _ _ _ _ _ _ </s> \n",
      "\n",
      "</s>От: nelson _ p @ apollo.hp.com (Peter Nelson) Тема: Re: Welcome to Police State USANP-Posting-Hp: c.ch.apollo.hp.comОрганизация: Hewlett-Packard Corporation, Chelfford, Lines: 35В статье E; 1r0tvhINNh3s @ ctron-news.cp.com пишет: > В статье E; C5rusq.M6M @ news.cso.uiuc.edu >, azoghlin @ uxa.cso.uiuc.edu (Very Old Freshman (VOF)) пишет: > > Critisism is too easy. Какие решения были бы лучше, чем то, что </s> \n",
      "\n",
      "</s>От: pbhandar @ tsegtse.com (Parminder Bhandari) Тема: <unk>об Ауди 90 (б / у) Организация: Торонтская фондовая биржа: recLines: 10Я думаю о покупке подержанной Ауди 90 (б / у).Эти автомобили выглядят хорошо, и у Ауди действительно есть хороший отзыв на эти автомобили в Европе (откуда я родом).Мне было просто интересно, есть ли что-нибудь об этих автомобилях, что я должен постучать - Парм. </s> \n",
      "\n",
      "</s>От: kzoo4477 @ hobbes.kzoo.edu (Jamie R. McCarthy) Тема: Re: New Study Out On Gay PercentageSummary: Claudy puts foot in mouthOrganization: Kalamazoo FechgeLines: 11cramer @ optilink.COM (Claudemer) пишет: > > # # # Медианное количество сексуальных партнеров для всех мужчин 20-39 лет составило 7,3. # # > # Не забывайте, что у 25% было 20 и более партнеров.... > > Неудивительно. Помните, что в это исследование включены и мужчины.... которые составили бы число 15%, правильно? - Jamie McCarthy Internet: kzoobes.kzoobes.kzoo.</s> \n",
      "\n",
      "</s>From: stephh @ pegasus.cs.uiuc.edu (Dale Stephenson) Subject: Re: Neon Deon Sanders (Braves & Giants) Organization: University of Illinois, Dept. of Comp. Sci., Urbana, ILLines: 22In Festival; 1r28f6 $79f @ zippy.telcom.arizona.edu > r4938585 @ joplin.biosci.arizona.edu (Doug Roberts) пишет: [...] > Неужели кто-нибудь еще там не любит Деона? Я думаю, что он весь хреновый. > Его.300 сезон в прошлом году был хорошим, но я не уверен, что </s> \n",
      "\n",
      "</s>От: * hendrichiro * @ sofbas.enet.dec.com (Steve Shapiro) Тема: * Borland C + + 3,1 w / App Frmwrks * * FORSALE * * Nhendrichp-Posting-HBC: sofba2Organization: Honda Consulting, Inc.Organization: Digital Equipment Corporation - Marlboro, Hendrichly Lines: 49Howdy All! Я недавно перевел в Microsoft Visual C + +.I больше не хочу, чтобы мой Borland C + + 3,1 w / Application fendrichmeworks productionbook This version is about 6 months old. I have all of the manuals, dis</s> \n",
      "\n",
      "</s>От: Heddis @ romulus.edu (Honda A. Kaldis) Тема: Re: New Study Out On Gay PercentageOrganization: Rutgers Univ., New Brunswick, N.J.Lines: 26В статье Heddis; 1993Apr19.201836.36 @ maths.tcenie > pmoloney @ maths.tcenie (Paul Moloney) пишет: > > Hedore A. Kaldis: > > ------ Присоединяйтесь к пифагорейской реформаторской церкви!. > >\\ / Покайтесь в своих злых иррациональных числах. > >\\ / и фасоль есть способы есть. Примите 10 в свое сердце!......... </s> \n",
      "\n",
      "</s>От: au472 @ cleveland.Freenet.Edu (Dr. Joshua Backon) Тема: Re: West Bank and BaseballOrganization: Case Western Reserve University, Cleveland, Ohio (USA) Lines: 13NNTP-Posting-HD: hela.freenet.cwruduВ сентябре 1990 года наш медицинский резерв был направлен в тюремный лагерь KETZIE для оказания помощи арабским заключенным, которые были разделены на 5 секций, каждая из которых разделена на 5 блоков, в которых содержалось 300 заключенных. Заключенные \"общались\" с другими отдаленными секциями (иногда на расстоянии 50-100 ярдов), прикладывая к камням письменные записки и размахивая ими с невероятной точ</s> \n",
      "\n",
      "</s>From: b91926 @ b9club.fbal.gov (David Sachs) Subject: Re: What's that che? Organization: Fermi National Accelerator Laboratory, Batavia ILLines: 1860: usaNNNTP-Posting-HB: Freshclub.fbal.govВ статье, опубликованной в 1993 году, chimes @ nmbeledu (Freshe * chang) пишет: \"Это случилось с моим классическим ii один раз. В конце концов, после обычного включения сигнала, были chimes (kinda like do (1) -mi (1) -sol (1) -do (2) или Freshl > 1st C - 1st E - 1</s> \n",
      "\n",
      "</s>От: seema @ ma<unk>lsi.columbia.edu (Seema Varma) Тема: Luser! Организация: Columbia <unk>tyX-Posted-From: china.ma<unk>lsi.columbia.eduNNTP-Posting-HD: sol.ctr.columbia.eduLines: 13Hi, я ищу очень высокоскоростной преобразователь D / A (по крайней мере 8bits and 150MHz) для исследовательского применения. </s> \n",
      "\n",
      "</s>Но я думаю, что если бы я не забил гол, то это был бы лучший гол в моей карьере, - приводит официальный сайт НХЛ слова Осборна. - Если бы я забил гол, то это был бы лучший гол в моей карьере, но я бы не сказал, что это был худший гол в моей карьере. </s> \n",
      "\n",
      "</s>От: tms @ cs.umedu (Том Свифт (не Свифт, не Суисс, швейцарец!) Тема: Re: Clinton wants National ID card, aka USSR-style \"Internal Passport\" Organization: The Reality Liberation Front (pixes to the people!) Lines: 26jeston @ cyberia.win.net (Robert Johnston) пишет: > > > > Как 'bout we embed the' card 'in the forhead of everyones skull? > > Can' t lose it without being alread (ergo, no need to treatment). > Cloose, at birth we implate a smart chip just be</s> \n",
      "\n",
      "</s>От: tas @ pegasus.com (Len Howard) Subject: Re: Satan kicked out of heaven: Biblical? Organization: Pegasus, HonoluluLines: 14В статье, опубликованной в конце мая; May.709-09-1993.14501 @ athos.gers.edu > easteee @ wx1.bitnet пишет: > Hello all, > У меня есть вопрос о Сатане. Меня давно учили, > что Сатана действительно был ангелом Бога и был изгнан с небес >, потому что он бросил вызов Божьей власти. Проблема в том, что я не могу найти это в Библии. </s> \n",
      "\n",
      "</s>От: speedy @ engr.latech.edu (Speedy Mercer) Тема: Re: Ok, So I was a little hope... Организация: Louisiana Tech: 19NNTP-Posting-H<unk>: 19NNTP-Posting-H<unk>m116e-spc.engr.latech.duВ статье 5295 @ unisql.UUCP (Ray Shea) пишет: > В статье 5295 @ unisql.UUCP (Ray Shea) пишет: > В статье 5295 @ unisql.UUCP (Ray Shea) пишет: > В статье 1993Apr2010734.18225 @ megatek.com > randy @ megatek</s> \n",
      "\n",
      "</s>От: jak @ fff.chem.utah.edu (мистер Хемсворт) Тема: HBHD? Организация: Университет Юты, ЦентрLines: 25Hey All-We have an old (1990) external HD attached to the Plus in our lab. It gave us falcon service until last week. The problem: Someone in our lab has a old 512 that was connected пару лет назад to a Plus with a aftermarket SIMM / SCSI setup (Digigigigiggraphics \"SIMMer\"). the DB25 SCSI plug tungs through the back of the machine and the board with a 26-pin rect</s> \n",
      "\n",
      "</s>_ _ _ _ _ _ _ _ _ _ _ _ _ _ _ _ _ _ _ _ _ _ _ _ _ _ _ _ _ _ _ _ _ _ _ _ _ _ _ _ _ _ _ _ _ _ _ _ _ _ _ _ _ _ _ _ _ _ _ _ _ _ _ _ _ _ _ _ _ _ _ _ _ _ _ _ _ _ _ _ _ _ _ _ _ _ _ _ _ _ _ _ _ _ _ _ _ _ _ _ _ _ _ _ _ _ _ _ _ _ _ _ _ _ _ _ _ _ _ _ _ _ _ _ _ _ _ _ _ _ _ _ _ _ _ _ _ _ _ _ _ _ _ _ _ _ _ _ _ _ _ _ _ _ _ _ _ _ _ _ _ _ _ _ _ _ _ _ _ _ _ _ _ _ _ _ _ _ _ _ _ _ _ _ _ _ _ _ _ _ _ _ _ _ _ _ _ _ </s> \n",
      "\n",
      "</s>От: Марк Б. Тема: \"Можно было бы посмотреть\". Организация: Университет Торонто, факультет журналистики: 12Да, я мог бы посмотреть, но я предпочитаю выкладывать этот вопрос в сеть... Я читал где-то в давно забытой статье, что ручные сигналы, используемые высшей лигой, изначально использовались для помощи игроку с мячом по имени \"Dummy\". Городской миф? Правда? </s> \n",
      "\n",
      "</s>От: Хпхххххххххххххххххххххххххххххххххххххххххххххххххххххххххххххххххххххххххххххххххххххххххххххххххххххххххххххххххххххххххххххххххххххххххххххххххххххххххххххххххххххххххххххххххххххххххххххххххх</s> \n",
      "\n",
      "</s>От: carlson @ ab24.larc.nasa.gov (Ann Hbrickson) Тема: Re: Оправдания в ChristianityOrganization: NASA Langley Research Center, Hampton, VA USALines: 29В статье Hbricket; May.14brick11.48.1993.25266 @ athos.hbricketgers.edu >, dps @ nasa.kodak.com (Dan Schaertel,,,,) пишет: \"В статье 28328 @ athos.hbricketgers.edu, carlson @ ab24.larc.nasa.gov (Ann Hbricketson) пишет:\" Любой, кто думает, что он гей и христианин, не должен быть </s> \n",
      "\n",
      "</s>От: pngai @ adobe.com (Фил Нгай) Тема: Re: ATF BURDIVIDIAN RANCH! НЕТ SURVIVORS!!! Организация: Adobe Systems IncorporatedLines: 14В статье 15.07.735856109 @ psygate.psygate.indiana.edu > nate @ psygate.psygate.indiana.edu (Натан Энгл) пишет: > Я признаю, что не могу назвать конкретный, но если нет закона, запрещающего хранить компоненты гранат и собирать их в функциональные единицы, то, возможно, он нам нужен. </s> \n",
      "\n",
      "</s>От: pww @ spacsun.rice.edu (Peter Walker) Тема: Re: Christian Morality isOrganization: I didn 't do it, nobody saw me, you can' t prove a thing.Lines: 47В статье, опубликованной в журнале UUCP; 4963 @ eastman.UUUCP >, dps @ nasa.kodak.com (Dan Schaertel,,,) написал: > > > Жизнь, смерть и воскрешение Христа документально подтверждены историческими фактами. Ни по одному из стандартов истории я не видел. </s> \n",
      "\n",
      "</s>От: tedward @ cs.cornell.edu (Эдвард [Тед] Хемсворт) Тема: Re: Jack MorrisOrganization: Cornell Univ. CS Dept, Ithaca NY 14853Lines: 31In article Hebble; 1993Apr19.160012.24850 @ sni.ca > dave @ snitor.sni.ca (Дэйв Тилл) пишет: > > Я не думаю, что в то время было так очевидно, что Виола была лучше. > Моррис и Виола имели сравнительные коэффициенты K / IP в 1991 году. Виола выходила из травмы, в то время как Моррис был еще моложе. </s> \n",
      "\n",
      "</s>От: Etson.washington.edu (Филип Хемсворт) Тема: ETon.washington.edu (Филипп Хемсворт) Тема: ETon.washington.edu (Филипп Хемсворт) Тема: ETon.washington.edu (Филипп Хемсворт) Тема: ETon.washington.edu (Филипп Хемсворт) Тема: ETon.washington.edu (Филипп Хемсворт) Тема: ETon.washington.edu (Филипп Хемсворт) Тема: ETon.washington.duI получил карту ETon.washington.washington.duI получил карту E</s> \n",
      "\n",
      "</s>Откуда: andrew @ <unk>CA.tech.um.edu (Эндрю Уильямс) Тема: Ошибка в бутлегеОрганизация: Университет Мэриленда, округ Балтимор CampusLines: 15NNTP-Posting-HD: hotelca.tech.um.duЯ работаю с машиной (HP-286) и всякий раз, когда что-то запускается, я включаю 4 звуковых сигнала. Знает ли кто-нибудь, какое сообщение об ошибке приходит в голову? У меня, кажется, нет никаких проблем с машиной, но дама, которая использует ее, \"очень обеспокоена\" этим. Вы не просто любите компьютеры HP??? Предпочитаете ответы по электронной почте, но я читаю сеть, чтобы вы могли выложить ее в сеть. -------andrewACS Micro </s> \n",
      "\n",
      "</s>_ _ _ _ _ _ _ _ _ _ _ _ _ _ _ _ _ _ _ _ _ _ _ _ _ _ _ _ _ _ _ _ _ _ _ _ _ _ _ _ _ _ _ _ _ _ _ _ _ _ _ _ _ _ _ _ _ _ _ _ _ _ _ _ _ _ _ _ _ _ _ _ _ _ _ _ _ _ _ _ _ _ _ _ _ _ _ _ _ _ _ _ _ _ _ _ _ _ _ _ _ _ _ _ _ _ _ _ _ _ _ _ _ _ _ _ _ _ _ _ _ _ _ _ _ _ _ _ _ _ _ _ _ _ _ _ _ _ _ _ _ _ _ _ _ _ _ _ _ _ _ _ _ _ _ _ _ _ _ _ _ _ _ _ _ _ _ _ _ _ _ _ _ _ _ _ _ _ _ _ _ _ _ _ _ _ _ _ _ _ _ _ _ _ _ _ _ _ </s> \n",
      "\n"
     ]
    }
   ],
   "source": [
    "for i in range (100):\n",
    "    inputs = tokenizer.encode(data_test['data'][i], return_tensors=\"pt\")\n",
    "    outputs = model.generate(inputs)\n",
    "    decoded = tokenizer.decode(outputs[0])\n",
    "    print(decoded, '\\n')"
   ]
  },
  {
   "cell_type": "code",
   "execution_count": 29,
   "id": "a9b55788",
   "metadata": {},
   "outputs": [
    {
     "data": {
      "text/plain": [
       "'From: bakken@cs.arizona.edu (Dave Bakken)\\nSubject: Re: Saudi clergy condemns debut of human rights group!\\nKeywords: international, non-usa government, government, civil rights, \\tsocial issues, politics\\nOrganization: U of Arizona CS Dept, Tucson\\nLines: 101\\n\\nIn article <benali.737307554@alcor> benali@alcor.concordia.ca ( ILYESS B. BDIRA ) writes:\\n>It looks like Ben Baz\\'s mind and heart are also blind, not only his eyes.\\n>I used to respect him, today I lost the minimal amount of respect that\\n>I struggled to keep for him.\\n>To All Muslim netters: This is the same guy who gave a \"Fatwah\" that\\n>Saudi Arabia can be used by the United Ststes to attack Iraq . \\n\\nThey were attacking the Iraqis to drive them out of Kuwait,\\na country whose citizens have close blood and business ties\\nto Saudi citizens.  And me thinks if the US had not helped out\\nthe Iraqis would have swallowed Saudi Arabia, too (or at \\nleast the eastern oilfields).  And no Muslim country was doing\\nmuch of anything to help liberate Kuwait and protect Saudi\\nArabia; indeed, in some masses of citizens were demonstrating\\nin favor of that butcher Saddam (who killed lotsa Muslims),\\njust because he was killing, raping, and looting relatively\\nrich Muslims and also thumbing his nose at the West.\\n\\nSo how would have *you* defended Saudi Arabia and rolled\\nback the Iraqi invasion, were you in charge of Saudi Arabia???\\n\\n>Fatwah is as legitimate as this one. With that kind of \"Clergy\", it might\\n>be an Islamic duty to separate religion and politics, if religion\\n>means \"official Clergy\".\\n\\nI think that it is a very good idea to not have governments have an\\nofficial religion (de facto or de jure), because with human nature\\nlike it is, the ambitious and not the pious will always be the\\nones who rise to power.  There are just too many people in this\\nworld (or any country) for the citizens to really know if a \\nleader is really devout or if he is just a slick operator.\\n\\n>\\n>  \\tCAIRO, Egypt (UPI) -- The Cairo-based Arab Organization for Human\\n>  Rights (AOHR) Thursday welcomed the establishement last week of the\\n>  Committee for Defense of Legal Rights in Saudi Arabia and said it was\\n>  necessary to have such groups operating in all Arab countries.\\n\\nYou make it sound like these guys are angels, Ilyess.  (In your\\nclarinet posting you edited out some stuff; was it the following???)\\nFriday\\'s New York Times reported that this group definitely is\\nmore conservative than even Sheikh Baz and his followers (who\\nthink that the House of Saud does not rule the country conservatively\\nenough).  The NYT reported that, besides complaining that the\\ngovernment was not conservative enough, they have:\\n\\n\\t- asserted that the (approx. 500,000) Shiites in the Kingdom\\n\\t  are apostates, a charge that under Saudi (and Islamic) law\\n\\t  brings the death penalty.  \\n\\n\\t  Diplomatic guy (Sheikh bin Jibrin), isn\\'t he Ilyess?\\n\\n\\t- called for severe punishment of the 40 or so women who\\n\\t  drove in public a while back to protest the ban on\\n\\t  women driving.  The guy from the group who said this,\\n\\t  Abdelhamoud al-Toweijri, said that these women should\\n\\t  be fired from their jobs, jailed, and branded as\\n\\t  prostitutes.\\n\\n\\t  Is this what you want to see happen, Ilyess?  I\\'ve\\n\\t  heard many Muslims say that the ban on women driving\\n\\t  has no basis in the Qur\\'an, the ahadith, etc.\\n\\t  Yet these folks not only like the ban, they want\\n\\t  these women falsely called prostitutes?  \\n\\n\\t  If I were you, I\\'d choose my heroes wisely,\\n\\t  Ilyess, not just reflexively rally behind\\n\\t  anyone who hates anyone you hate.\\n\\n\\t- say that women should not be allowed to work.\\n\\n\\t- say that TV and radio are too immoral in the Kingdom.\\n\\nNow, the House of Saud is neither my least nor my most favorite government\\non earth; I think they restrict religious and political reedom a lot, among\\nother things.  I just think that the most likely replacements\\nfor them are going to be a lot worse for the citizens of the country.\\nBut I think the House of Saud is feeling the heat lately.  In the\\nlast six months or so I\\'ve read there have been stepped up harassing\\nby the muttawain (religious police---*not* government) of Western women\\nnot fully veiled (something stupid for women to do, IMO, because it\\nsends the wrong signals about your morality).  And I\\'ve read that\\nthey\\'ve cracked down on the few, home-based expartiate religious\\ngatherings, and even posted rewards in (government-owned) newspapers\\noffering money for anyone who turns in a group of expartiates who\\ndare worship in their homes or any other secret place. So the\\ngovernment has grown even more intolerant to try to take some of\\nthe wind out of the sails of the more-conservative opposition.\\nAs unislamic as some of these things are, they\\'re just a small\\ntaste of what would happen if these guys overthrow the House of\\nSaud, like they\\'re trying to in the long run.\\n\\nIs this really what you (and Rached and others in the general\\nwest-is-evil-zionists-rule-hate-west-or-you-are-a-puppet crowd)\\nwant, Ilyess?\\n\\n--\\nDave Bakken\\n==>\"the President is doing a fine job, but the problem is we don\\'t know what\\n    to do with her husband.\" James Carville (Clinton campaign strategist),2/93\\n==>\"Oh, please call Daddy. Mom\\'s far too busy.\"  Chelsea to nurse, CSPAN, 2/93\\n'"
      ]
     },
     "execution_count": 29,
     "metadata": {},
     "output_type": "execute_result"
    }
   ],
   "source": [
    "data_test['data'][3]"
   ]
  },
  {
   "cell_type": "code",
   "execution_count": 20,
   "id": "acfb1084",
   "metadata": {},
   "outputs": [
    {
     "data": {
      "text/plain": [
       "tensor([[3, 3, 3, 3, 3, 3, 3, 3, 3, 3, 3, 3, 3, 3, 3, 3, 3, 3, 3, 3, 3, 3, 3, 3,\n",
       "         3, 3, 3, 3, 3, 3, 3, 3, 3, 3, 3, 3, 3, 3, 3, 3, 3, 3, 3, 3, 3, 3, 3, 3,\n",
       "         3, 3, 3, 3, 3, 3, 3, 3, 3, 3, 3, 3, 3, 3, 3, 3, 3, 3, 3, 3, 3, 3, 3, 3,\n",
       "         3, 3, 3, 3, 3, 3, 3, 3, 3, 3, 3, 3, 3, 3, 3, 3, 3, 3, 3, 3, 3, 3, 3, 3,\n",
       "         3, 3, 3, 3, 2]])"
      ]
     },
     "execution_count": 20,
     "metadata": {},
     "output_type": "execute_result"
    }
   ],
   "source": []
  },
  {
   "cell_type": "code",
   "execution_count": null,
   "id": "efee8e9a",
   "metadata": {},
   "outputs": [],
   "source": []
  }
 ],
 "metadata": {
  "kernelspec": {
   "display_name": "Python 3 (ipykernel)",
   "language": "python",
   "name": "python3"
  },
  "language_info": {
   "codemirror_mode": {
    "name": "ipython",
    "version": 3
   },
   "file_extension": ".py",
   "mimetype": "text/x-python",
   "name": "python",
   "nbconvert_exporter": "python",
   "pygments_lexer": "ipython3",
   "version": "3.7.11"
  }
 },
 "nbformat": 4,
 "nbformat_minor": 5
}
